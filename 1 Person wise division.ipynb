{
 "cells": [
  {
   "cell_type": "markdown",
   "metadata": {},
   "source": [
    "## convert dat file into csv\n",
    "- column names are given from the data description"
   ]
  },
  {
   "cell_type": "code",
   "execution_count": null,
   "metadata": {},
   "outputs": [],
   "source": [
    "\n",
    "import pandas as pd\n",
    "\n",
    "df=pd.read_csv('/home/kishore/datasets/PAMAP2_Dataset/Protocol/subject101.dat',\n",
    "            header=None, sep='\\s+', engine='python')\n",
    "\n",
    "\n",
    "df.columns = ['timestamp-s','activityID','heartrate-bpm','hand-temperature-c',\n",
    "              'hand-accelerometer-x-scale16g','hand-accelerometer-y-scale16g',\n",
    "              'hand-accelerometer-z-scale16g','hand-accelerometer-x-scale6g',\n",
    "              'hand-accelerometer-y-scale6g',  'hand-accelerometer-z-scale6g',\n",
    "              'hand-gyroscope-x','hand-gyroscope-y','hand-gyroscope-z',\n",
    "              'hand-magnetometer-x','hand-magnetometer-y','hand-magnetometer-z',\n",
    "              'hand-orientation-A','hand-orientation-B','hand-orientation-C',\n",
    "              'hand-orientation-D',\n",
    "              'chest-temperature-c',\n",
    "              'chest-accelerometer-x-scale16g','chest-accelerometer-y-scale16g',\n",
    "              'chest-accelerometer-z-scale16g','chest-accelerometer-x-scale6g',\n",
    "              'chest-accelerometer-y-scale6g',  'chest-accelerometer-z-scale6g',\n",
    "              'chest-gyroscope-x','chest-gyroscope-y','chest-gyroscope-z',\n",
    "              'chest-magnetometer-x','chest-magnetometer-y','chest-magnetometer-z',\n",
    "              'chest-orientation-A','chest-orientation-B','chest-orientation-C',\n",
    "              'chest-orientation-D',\n",
    "              'ankle-temperature-c',\n",
    "              'ankle-accelerometer-x-scale16g','ankle-accelerometer-y-scale16g',\n",
    "              'ankle-accelerometer-z-scale16g','ankle-accelerometer-x-scale6g',\n",
    "              'ankle-accelerometer-y-scale6g',  'ankle-accelerometer-z-scale6g',\n",
    "              'ankle-gyroscope-x','ankle-gyroscope-y','ankle-gyroscope-z',\n",
    "              'ankle-magnetometer-x','ankle-magnetometer-y','ankle-magnetometer-z',\n",
    "              'ankle-orientation-A','ankle-orientation-B','ankle-orientation-C',\n",
    "              'ankle-orientation-D']\n",
    "\n",
    "\n",
    "df.to_csv (r'/home/kishore/datasets/PAMAP2_Dataset/Protocol/csv/subject109.csv', index = None, header=True)\n",
    "\n"
   ]
  },
  {
   "cell_type": "markdown",
   "metadata": {},
   "source": [
    "- remove heartrate,temperature and orientation data\n",
    "- rewrite into new folder"
   ]
  },
  {
   "cell_type": "code",
   "execution_count": null,
   "metadata": {},
   "outputs": [],
   "source": [
    "df=df.drop(columns=['heartrate-bpm','hand-temperature-c','hand-orientation-A', 'hand-orientation-B', 'hand-orientation-C','hand-orientation-D',\n",
    "                'chest-temperature-c','chest-orientation-A', 'hand-orientation-B', 'chest-orientation-C','chest-orientation-D',\n",
    "                'ankle-temperature-c','ankle-orientation-A', 'ankle-orientation-B', 'ankle-orientation-C','ankle-orientation-D'])\n",
    "\n",
    "df=df.dropna()\n",
    "print(df.shape)\n",
    "df.to_csv (r'/home/kishore/datasets/PAMAP2_Dataset/cleaned/new/df102.csv', index = None, header=True)"
   ]
  }
 ],
 "metadata": {
  "kernelspec": {
   "display_name": "Python 3",
   "language": "python",
   "name": "python3"
  },
  "language_info": {
   "codemirror_mode": {
    "name": "ipython",
    "version": 3
   },
   "file_extension": ".py",
   "mimetype": "text/x-python",
   "name": "python",
   "nbconvert_exporter": "python",
   "pygments_lexer": "ipython3",
   "version": "3.7.3"
  }
 },
 "nbformat": 4,
 "nbformat_minor": 2
}

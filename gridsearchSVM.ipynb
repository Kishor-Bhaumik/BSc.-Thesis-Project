{
 "cells": [
  {
   "cell_type": "markdown",
   "metadata": {},
   "source": [
    "## 6 Fold cross validation for svm"
   ]
  },
  {
   "cell_type": "code",
   "execution_count": 1,
   "metadata": {},
   "outputs": [],
   "source": [
    "import pandas as pd\n",
    "import numpy as np\n",
    "import numpy as np\n",
    "from sklearn import svm\n",
    "from statistics import mean\n",
    "from sklearn.model_selection import RandomizedSearchCV\n",
    "from sklearn import preprocessing\n",
    "from sklearn.model_selection import cross_val_score\n",
    "encoder = preprocessing.LabelEncoder()\n"
   ]
  },
  {
   "cell_type": "code",
   "execution_count": 2,
   "metadata": {},
   "outputs": [],
   "source": [
    "df=pd.read_csv('total.csv')"
   ]
  },
  {
   "cell_type": "markdown",
   "metadata": {},
   "source": [
    "## Customize cv fold so that it returns five person to train and one person to test"
   ]
  },
  {
   "cell_type": "code",
   "execution_count": 3,
   "metadata": {},
   "outputs": [],
   "source": [
    "def custom_cv_2folds(X,sub):\n",
    "    a=X[sub].unique()\n",
    "    for i in range(6):  \n",
    "        \n",
    "        train=df[(df[sub] != a[i])]\n",
    "        test=df.loc[df[sub].isin([a[i]])]\n",
    "        tr=train.index.tolist()\n",
    "        te=test.index.tolist()\n",
    "        \n",
    "        yield tr,te\n"
   ]
  },
  {
   "cell_type": "markdown",
   "metadata": {},
   "source": [
    "## Declae C,gamma,kernal \n"
   ]
  },
  {
   "cell_type": "code",
   "execution_count": 5,
   "metadata": {},
   "outputs": [
    {
     "name": "stderr",
     "output_type": "stream",
     "text": [
      "C:\\Users\\akibs\\Anaconda3\\lib\\site-packages\\sklearn\\model_selection\\_search.py:841: DeprecationWarning: The default of the `iid` parameter will change from True to False in version 0.22 and will be removed in 0.24. This will change numeric results when test-set sizes are unequal.\n",
      "  DeprecationWarning)\n",
      "C:\\Users\\akibs\\Anaconda3\\lib\\site-packages\\sklearn\\utils\\deprecation.py:125: FutureWarning: You are accessing a training score ('split0_train_score'), which will not be available by default any more in 0.21. If you need training scores, please set return_train_score=True\n",
      "  warnings.warn(*warn_args, **warn_kwargs)\n",
      "C:\\Users\\akibs\\Anaconda3\\lib\\site-packages\\sklearn\\utils\\deprecation.py:125: FutureWarning: You are accessing a training score ('split1_train_score'), which will not be available by default any more in 0.21. If you need training scores, please set return_train_score=True\n",
      "  warnings.warn(*warn_args, **warn_kwargs)\n",
      "C:\\Users\\akibs\\Anaconda3\\lib\\site-packages\\sklearn\\utils\\deprecation.py:125: FutureWarning: You are accessing a training score ('split2_train_score'), which will not be available by default any more in 0.21. If you need training scores, please set return_train_score=True\n",
      "  warnings.warn(*warn_args, **warn_kwargs)\n",
      "C:\\Users\\akibs\\Anaconda3\\lib\\site-packages\\sklearn\\utils\\deprecation.py:125: FutureWarning: You are accessing a training score ('split3_train_score'), which will not be available by default any more in 0.21. If you need training scores, please set return_train_score=True\n",
      "  warnings.warn(*warn_args, **warn_kwargs)\n",
      "C:\\Users\\akibs\\Anaconda3\\lib\\site-packages\\sklearn\\utils\\deprecation.py:125: FutureWarning: You are accessing a training score ('split4_train_score'), which will not be available by default any more in 0.21. If you need training scores, please set return_train_score=True\n",
      "  warnings.warn(*warn_args, **warn_kwargs)\n",
      "C:\\Users\\akibs\\Anaconda3\\lib\\site-packages\\sklearn\\utils\\deprecation.py:125: FutureWarning: You are accessing a training score ('split5_train_score'), which will not be available by default any more in 0.21. If you need training scores, please set return_train_score=True\n",
      "  warnings.warn(*warn_args, **warn_kwargs)\n",
      "C:\\Users\\akibs\\Anaconda3\\lib\\site-packages\\sklearn\\utils\\deprecation.py:125: FutureWarning: You are accessing a training score ('mean_train_score'), which will not be available by default any more in 0.21. If you need training scores, please set return_train_score=True\n",
      "  warnings.warn(*warn_args, **warn_kwargs)\n",
      "C:\\Users\\akibs\\Anaconda3\\lib\\site-packages\\sklearn\\utils\\deprecation.py:125: FutureWarning: You are accessing a training score ('std_train_score'), which will not be available by default any more in 0.21. If you need training scores, please set return_train_score=True\n",
      "  warnings.warn(*warn_args, **warn_kwargs)\n"
     ]
    },
    {
     "data": {
      "text/html": [
       "<div>\n",
       "<style scoped>\n",
       "    .dataframe tbody tr th:only-of-type {\n",
       "        vertical-align: middle;\n",
       "    }\n",
       "\n",
       "    .dataframe tbody tr th {\n",
       "        vertical-align: top;\n",
       "    }\n",
       "\n",
       "    .dataframe thead th {\n",
       "        text-align: right;\n",
       "    }\n",
       "</style>\n",
       "<table border=\"1\" class=\"dataframe\">\n",
       "  <thead>\n",
       "    <tr style=\"text-align: right;\">\n",
       "      <th></th>\n",
       "      <th>mean_test_score</th>\n",
       "      <th>std_test_score</th>\n",
       "      <th>params</th>\n",
       "    </tr>\n",
       "  </thead>\n",
       "  <tbody>\n",
       "    <tr>\n",
       "      <th>0</th>\n",
       "      <td>0.165691</td>\n",
       "      <td>0.014985</td>\n",
       "      <td>{'kernel': 'sigmoid', 'gamma': 0.16, 'C': 0.1}</td>\n",
       "    </tr>\n",
       "    <tr>\n",
       "      <th>1</th>\n",
       "      <td>0.128049</td>\n",
       "      <td>0.019510</td>\n",
       "      <td>{'kernel': 'rbf', 'gamma': 0.51, 'C': 0.001}</td>\n",
       "    </tr>\n",
       "    <tr>\n",
       "      <th>2</th>\n",
       "      <td>0.898374</td>\n",
       "      <td>0.058825</td>\n",
       "      <td>{'kernel': 'poly', 'gamma': 0.31, 'C': 10}</td>\n",
       "    </tr>\n",
       "    <tr>\n",
       "      <th>3</th>\n",
       "      <td>0.138211</td>\n",
       "      <td>0.025080</td>\n",
       "      <td>{'kernel': 'rbf', 'gamma': 0.49, 'C': 0.1}</td>\n",
       "    </tr>\n",
       "    <tr>\n",
       "      <th>4</th>\n",
       "      <td>0.138211</td>\n",
       "      <td>0.025080</td>\n",
       "      <td>{'kernel': 'rbf', 'gamma': 0.85, 'C': 0.1}</td>\n",
       "    </tr>\n",
       "    <tr>\n",
       "      <th>5</th>\n",
       "      <td>0.886870</td>\n",
       "      <td>0.066609</td>\n",
       "      <td>{'kernel': 'linear', 'gamma': 0.56, 'C': 1}</td>\n",
       "    </tr>\n",
       "    <tr>\n",
       "      <th>6</th>\n",
       "      <td>0.900285</td>\n",
       "      <td>0.056417</td>\n",
       "      <td>{'kernel': 'poly', 'gamma': 0.18, 'C': 0.001}</td>\n",
       "    </tr>\n",
       "    <tr>\n",
       "      <th>7</th>\n",
       "      <td>0.890163</td>\n",
       "      <td>0.080354</td>\n",
       "      <td>{'kernel': 'linear', 'gamma': 0.58, 'C': 0.1}</td>\n",
       "    </tr>\n",
       "    <tr>\n",
       "      <th>8</th>\n",
       "      <td>0.925813</td>\n",
       "      <td>0.047673</td>\n",
       "      <td>{'kernel': 'linear', 'gamma': 0.85, 'C': 0.01}</td>\n",
       "    </tr>\n",
       "    <tr>\n",
       "      <th>9</th>\n",
       "      <td>0.168740</td>\n",
       "      <td>0.025762</td>\n",
       "      <td>{'kernel': 'sigmoid', 'gamma': 0.4100000000000...</td>\n",
       "    </tr>\n",
       "  </tbody>\n",
       "</table>\n",
       "</div>"
      ],
      "text/plain": [
       "   mean_test_score  std_test_score  \\\n",
       "0         0.165691        0.014985   \n",
       "1         0.128049        0.019510   \n",
       "2         0.898374        0.058825   \n",
       "3         0.138211        0.025080   \n",
       "4         0.138211        0.025080   \n",
       "5         0.886870        0.066609   \n",
       "6         0.900285        0.056417   \n",
       "7         0.890163        0.080354   \n",
       "8         0.925813        0.047673   \n",
       "9         0.168740        0.025762   \n",
       "\n",
       "                                              params  \n",
       "0     {'kernel': 'sigmoid', 'gamma': 0.16, 'C': 0.1}  \n",
       "1       {'kernel': 'rbf', 'gamma': 0.51, 'C': 0.001}  \n",
       "2         {'kernel': 'poly', 'gamma': 0.31, 'C': 10}  \n",
       "3         {'kernel': 'rbf', 'gamma': 0.49, 'C': 0.1}  \n",
       "4         {'kernel': 'rbf', 'gamma': 0.85, 'C': 0.1}  \n",
       "5        {'kernel': 'linear', 'gamma': 0.56, 'C': 1}  \n",
       "6      {'kernel': 'poly', 'gamma': 0.18, 'C': 0.001}  \n",
       "7      {'kernel': 'linear', 'gamma': 0.58, 'C': 0.1}  \n",
       "8     {'kernel': 'linear', 'gamma': 0.85, 'C': 0.01}  \n",
       "9  {'kernel': 'sigmoid', 'gamma': 0.4100000000000...  "
      ]
     },
     "execution_count": 5,
     "metadata": {},
     "output_type": "execute_result"
    }
   ],
   "source": [
    "custom_cv=custom_cv_2folds(df,'subject')\n",
    "x=df.drop(columns=['subject','activityID']).values\n",
    "yy=df.activityID.values\n",
    "\n",
    "encoder.fit(yy)\n",
    "y = encoder.transform(yy)\n",
    "\n",
    "\n",
    "C_parameter_range=[0.001, 0.01, 0.1, 1, 10] #list(np.arange(0, 1, 0.01))\n",
    "gam=list(np.arange(0, 1, 0.01))\n",
    "ker=['linear', 'poly', 'rbf', 'sigmoid']\n",
    "\n",
    "param_dist= dict(C=C_parameter_range,kernel=ker,gamma=gam)\n",
    "\n",
    "classifier = svm.SVC(gamma='auto') #kernel='linear',probability=True,random_state=0\n",
    "\n",
    "\n",
    "rand = RandomizedSearchCV(classifier, param_dist, cv=custom_cv, scoring='accuracy', n_iter=10, random_state=5)\n",
    "rand.fit(x,y)\n",
    "pd.DataFrame(rand.cv_results_)[['mean_test_score', 'std_test_score', 'params']]"
   ]
  },
  {
   "cell_type": "markdown",
   "metadata": {},
   "source": [
    "## show best parameters "
   ]
  },
  {
   "cell_type": "code",
   "execution_count": 6,
   "metadata": {},
   "outputs": [
    {
     "name": "stdout",
     "output_type": "stream",
     "text": [
      "0.9258130081300813\n",
      "{'kernel': 'linear', 'gamma': 0.85, 'C': 0.01}\n"
     ]
    }
   ],
   "source": [
    "print(rand.best_score_)\n",
    "print(rand.best_params_)"
   ]
  },
  {
   "cell_type": "code",
   "execution_count": null,
   "metadata": {},
   "outputs": [],
   "source": []
  }
 ],
 "metadata": {
  "kernelspec": {
   "display_name": "Python 3",
   "language": "python",
   "name": "python3"
  },
  "language_info": {
   "codemirror_mode": {
    "name": "ipython",
    "version": 3
   },
   "file_extension": ".py",
   "mimetype": "text/x-python",
   "name": "python",
   "nbconvert_exporter": "python",
   "pygments_lexer": "ipython3",
   "version": "3.7.3"
  }
 },
 "nbformat": 4,
 "nbformat_minor": 2
}
